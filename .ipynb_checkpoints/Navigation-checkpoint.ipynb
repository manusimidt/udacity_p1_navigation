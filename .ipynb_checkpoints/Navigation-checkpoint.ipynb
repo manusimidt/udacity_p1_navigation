{
 "cells": [
  {
   "cell_type": "markdown",
   "metadata": {},
   "source": [
    "# Navigation\n",
    "\n",
    "---\n",
    "\n",
    "In this notebook, you will learn how to use the Unity ML-Agents environment for the first project of the [Deep Reinforcement Learning Nanodegree](https://www.udacity.com/course/deep-reinforcement-learning-nanodegree--nd893).\n",
    "\n",
    "### 1. Start the Environment\n",
    "\n",
    "We begin by importing some necessary packages.  If the code cell below returns an error, please revisit the project instructions to double-check that you have installed [Unity ML-Agents](https://github.com/Unity-Technologies/ml-agents/blob/master/docs/Installation.md) and [NumPy](http://www.numpy.org/)."
   ]
  },
  {
   "cell_type": "code",
   "execution_count": 1,
   "metadata": {},
   "outputs": [],
   "source": [
    "from unityagents import UnityEnvironment\n",
    "import numpy as np"
   ]
  },
  {
   "cell_type": "markdown",
   "metadata": {},
   "source": [
    "Next, we will start the environment!  **_Before running the code cell below_**, change the `file_name` parameter to match the location of the Unity environment that you downloaded.\n",
    "\n",
    "- **Mac**: `\"path/to/Banana.app\"`\n",
    "- **Windows** (x86): `\"path/to/Banana_Windows_x86/Banana.exe\"`\n",
    "- **Windows** (x86_64): `\"path/to/Banana_Windows_x86_64/Banana.exe\"`\n",
    "- **Linux** (x86): `\"path/to/Banana_Linux/Banana.x86\"`\n",
    "- **Linux** (x86_64): `\"path/to/Banana_Linux/Banana.x86_64\"`\n",
    "- **Linux** (x86, headless): `\"path/to/Banana_Linux_NoVis/Banana.x86\"`\n",
    "- **Linux** (x86_64, headless): `\"path/to/Banana_Linux_NoVis/Banana.x86_64\"`\n",
    "\n",
    "For instance, if you are using a Mac, then you downloaded `Banana.app`.  If this file is in the same folder as the notebook, then the line below should appear as follows:\n",
    "```\n",
    "env = UnityEnvironment(file_name=\"Banana.app\")\n",
    "```"
   ]
  },
  {
   "cell_type": "code",
   "execution_count": 2,
   "metadata": {},
   "outputs": [
    {
     "name": "stderr",
     "output_type": "stream",
     "text": [
      "INFO:unityagents:\n",
      "'Academy' started successfully!\n",
      "Unity Academy name: Academy\n",
      "        Number of Brains: 1\n",
      "        Number of External Brains : 1\n",
      "        Lesson number : 0\n",
      "        Reset Parameters :\n",
      "\t\t\n",
      "Unity brain name: BananaBrain\n",
      "        Number of Visual Observations (per agent): 0\n",
      "        Vector Observation space type: continuous\n",
      "        Vector Observation space size (per agent): 37\n",
      "        Number of stacked Vector Observation: 1\n",
      "        Vector Action space type: discrete\n",
      "        Vector Action space size (per agent): 4\n",
      "        Vector Action descriptions: , , , \n"
     ]
    }
   ],
   "source": [
    "env = UnityEnvironment(file_name=\"./Banana_Linux/Banana.x86_64\")\n",
    "\n"
   ]
  },
  {
   "cell_type": "markdown",
   "metadata": {},
   "source": [
    "Environments contain **_brains_** which are responsible for deciding the actions of their associated agents. Here we check for the first brain available, and set it as the default brain we will be controlling from Python."
   ]
  },
  {
   "cell_type": "code",
   "execution_count": 3,
   "metadata": {},
   "outputs": [],
   "source": [
    "# get the default brain\n",
    "brain_name = env.brain_names[0]\n",
    "brain = env.brains[brain_name]"
   ]
  },
  {
   "cell_type": "markdown",
   "metadata": {},
   "source": [
    "### 2. Examine the State and Action Spaces\n",
    "\n",
    "The simulation contains a single agent that navigates a large environment.  At each time step, it has four actions at its disposal:\n",
    "- `0` - walk forward \n",
    "- `1` - walk backward\n",
    "- `2` - turn left\n",
    "- `3` - turn right\n",
    "\n",
    "The state space has `37` dimensions and contains the agent's velocity, along with ray-based perception of objects around agent's forward direction.  A reward of `+1` is provided for collecting a yellow banana, and a reward of `-1` is provided for collecting a blue banana. \n",
    "\n",
    "Run the code cell below to print some information about the environment."
   ]
  },
  {
   "cell_type": "code",
   "execution_count": 4,
   "metadata": {},
   "outputs": [
    {
     "name": "stdout",
     "output_type": "stream",
     "text": [
      "Number of agents: 1\n",
      "Number of actions: 4\n",
      "States look like: [1.         0.         0.         0.         0.84408134 0.\n",
      " 0.         1.         0.         0.0748472  0.         1.\n",
      " 0.         0.         0.25755    1.         0.         0.\n",
      " 0.         0.74177343 0.         1.         0.         0.\n",
      " 0.25854847 0.         0.         1.         0.         0.09355672\n",
      " 0.         1.         0.         0.         0.31969345 0.\n",
      " 0.        ]\n",
      "States have length: 37\n"
     ]
    }
   ],
   "source": [
    "# reset the environment\n",
    "env_info = env.reset(train_mode=True)[brain_name]\n",
    "\n",
    "# number of agents in the environment\n",
    "print('Number of agents:', len(env_info.agents))\n",
    "\n",
    "# number of actions\n",
    "action_size = brain.vector_action_space_size\n",
    "print('Number of actions:', action_size)\n",
    "\n",
    "# examine the state space \n",
    "state = env_info.vector_observations[0]\n",
    "print('States look like:', state)\n",
    "state_size = len(state)\n",
    "print('States have length:', state_size)"
   ]
  },
  {
   "cell_type": "markdown",
   "metadata": {},
   "source": [
    "### 3. Take Random Actions in the Environment\n",
    "\n",
    "In the next code cell, you will learn how to use the Python API to control the agent and receive feedback from the environment.\n",
    "\n",
    "Once this cell is executed, you will watch the agent's performance, if it selects an action (uniformly) at random with each time step.  A window should pop up that allows you to observe the agent, as it moves through the environment.  \n",
    "\n",
    "Of course, as part of the project, you'll have to change the code so that the agent is able to use its experience to gradually choose better actions when interacting with the environment!"
   ]
  },
  {
   "cell_type": "code",
   "execution_count": 5,
   "metadata": {
    "pycharm": {
     "is_executing": true
    }
   },
   "outputs": [
    {
     "name": "stdout",
     "output_type": "stream",
     "text": [
      "Score: 0.0\n"
     ]
    }
   ],
   "source": [
    "env_info = env.reset(train_mode=False)[brain_name]  # reset the environment\n",
    "state = env_info.vector_observations[0]  # get the current state\n",
    "score = 0  # initialize the score\n",
    "while True:\n",
    "    action = np.random.randint(action_size)  # select an action\n",
    "    env_info = env.step(action)[brain_name]  # send the action to the environment\n",
    "    next_state = env_info.vector_observations[0]  # get the next state\n",
    "    reward = env_info.rewards[0]  # get the reward\n",
    "    done = env_info.local_done[0]  # see if episode has finished\n",
    "    score += reward  # update the score\n",
    "    state = next_state  # roll over the state to next time step\n",
    "    if done:  # exit loop if episode finished\n",
    "        break\n",
    "\n",
    "print(\"Score: {}\".format(score))"
   ]
  },
  {
   "cell_type": "markdown",
   "metadata": {},
   "source": [
    "When finished, you can close the environment."
   ]
  },
  {
   "cell_type": "code",
   "execution_count": 6,
   "metadata": {
    "pycharm": {
     "is_executing": true
    }
   },
   "outputs": [],
   "source": [
    "# env.close()"
   ]
  },
  {
   "cell_type": "markdown",
   "metadata": {},
   "source": [
    "### 4. It's Your Turn!\n",
    "\n",
    "Now it's your turn to train your own agent to solve the environment!  When training the environment, set `train_mode=True`, so that the line for resetting the environment looks like the following:\n",
    "```python\n",
    "env_info = env.reset(train_mode=True)[brain_name]\n",
    "```"
   ]
  },
  {
   "cell_type": "code",
   "execution_count": 7,
   "metadata": {
    "pycharm": {
     "is_executing": true
    }
   },
   "outputs": [
    {
     "name": "stdout",
     "output_type": "stream",
     "text": [
      "QNetwork(\n",
      "  (layers): ModuleList(\n",
      "    (0): Linear(in_features=37, out_features=70, bias=True)\n",
      "    (1): Linear(in_features=70, out_features=64, bias=True)\n",
      "    (2): Linear(in_features=64, out_features=4, bias=True)\n",
      "  )\n",
      ")\n"
     ]
    }
   ],
   "source": [
    "from agent import Agent\n",
    "import torch\n",
    "from collections import deque\n",
    "import pandas as pd\n",
    "import matplotlib.pyplot as plt\n",
    "%matplotlib inline\n",
    "\n",
    "\n",
    "# create the agent\n",
    "agent = Agent(state_size, action_size, hidden_sizes=[70, 64],\n",
    "                   gamma=0.992, lr=0.0005, tau=0.002,\n",
    "                   buffer_size=100000, batch_size=64, update_rate=10,\n",
    "                   seed=0)"
   ]
  },
  {
   "cell_type": "markdown",
   "metadata": {
    "pycharm": {
     "name": "#%% md\n"
    }
   },
   "source": [
    "### Train the trained agent"
   ]
  },
  {
   "cell_type": "code",
   "execution_count": 8,
   "metadata": {
    "pycharm": {
     "is_executing": true,
     "name": "#%%\n"
    }
   },
   "outputs": [
    {
     "name": "stdout",
     "output_type": "stream",
     "text": [
      "Episode 10:\n",
      "            Epsilon: 0.951\n",
      "            Average Score: 0.20\n",
      "            \n",
      "Episode 20:\n",
      "            Epsilon: 0.905\n",
      "            Average Score: 0.05\n",
      "            \n",
      "Episode 30:\n",
      "            Epsilon: 0.860\n",
      "            Average Score: 0.03\n",
      "            \n",
      "Episode 40:\n",
      "            Epsilon: 0.818\n",
      "            Average Score: 0.10\n",
      "            \n",
      "Episode 50:\n",
      "            Epsilon: 0.778\n",
      "            Average Score: 0.10\n",
      "            \n",
      "Episode 60:\n",
      "            Epsilon: 0.740\n",
      "            Average Score: 0.07\n",
      "            \n",
      "Episode 70:\n",
      "            Epsilon: 0.704\n",
      "            Average Score: 0.26\n",
      "            \n",
      "Episode 80:\n",
      "            Epsilon: 0.670\n",
      "            Average Score: 0.36\n",
      "            \n",
      "Episode 90:\n",
      "            Epsilon: 0.637\n",
      "            Average Score: 0.36\n",
      "            \n",
      "Episode 100:\n",
      "            Epsilon: 0.606\n",
      "            Average Score: 0.58\n",
      "            \n",
      "Episode 110:\n",
      "            Epsilon: 0.576\n",
      "            Average Score: 0.83\n",
      "            \n",
      "Episode 120:\n",
      "            Epsilon: 0.548\n",
      "            Average Score: 1.08\n",
      "            \n",
      "Episode 130:\n",
      "            Epsilon: 0.521\n",
      "            Average Score: 1.48\n",
      "            \n",
      "Episode 140:\n",
      "            Epsilon: 0.496\n",
      "            Average Score: 1.84\n",
      "            \n",
      "Episode 150:\n",
      "            Epsilon: 0.471\n",
      "            Average Score: 2.26\n",
      "            \n",
      "Episode 160:\n",
      "            Epsilon: 0.448\n",
      "            Average Score: 2.70\n",
      "            \n",
      "Episode 170:\n",
      "            Epsilon: 0.427\n",
      "            Average Score: 3.03\n",
      "            \n",
      "Episode 180:\n",
      "            Epsilon: 0.406\n",
      "            Average Score: 3.39\n",
      "            \n",
      "Episode 190:\n",
      "            Epsilon: 0.386\n",
      "            Average Score: 3.81\n",
      "            \n",
      "Episode 200:\n",
      "            Epsilon: 0.367\n",
      "            Average Score: 4.31\n",
      "            \n",
      "Episode 210:\n",
      "            Epsilon: 0.349\n",
      "            Average Score: 4.71\n",
      "            \n",
      "Episode 220:\n",
      "            Epsilon: 0.332\n",
      "            Average Score: 5.05\n",
      "            \n",
      "Episode 230:\n",
      "            Epsilon: 0.316\n",
      "            Average Score: 5.26\n",
      "            \n",
      "Episode 240:\n",
      "            Epsilon: 0.300\n",
      "            Average Score: 5.45\n",
      "            \n",
      "Episode 250:\n",
      "            Epsilon: 0.286\n",
      "            Average Score: 5.57\n",
      "            \n",
      "Episode 260:\n",
      "            Epsilon: 0.272\n",
      "            Average Score: 6.03\n",
      "            \n",
      "Episode 270:\n",
      "            Epsilon: 0.258\n",
      "            Average Score: 6.37\n",
      "            \n",
      "Episode 280:\n",
      "            Epsilon: 0.246\n",
      "            Average Score: 6.62\n",
      "            \n",
      "Episode 290:\n",
      "            Epsilon: 0.234\n",
      "            Average Score: 6.86\n",
      "            \n",
      "Episode 300:\n",
      "            Epsilon: 0.222\n",
      "            Average Score: 7.04\n",
      "            \n",
      "Episode 310:\n",
      "            Epsilon: 0.211\n",
      "            Average Score: 7.39\n",
      "            \n",
      "Episode 320:\n",
      "            Epsilon: 0.201\n",
      "            Average Score: 7.85\n",
      "            \n",
      "Episode 330:\n",
      "            Epsilon: 0.191\n",
      "            Average Score: 8.14\n",
      "            \n",
      "Episode 340:\n",
      "            Epsilon: 0.182\n",
      "            Average Score: 8.38\n",
      "            \n",
      "Episode 350:\n",
      "            Epsilon: 0.173\n",
      "            Average Score: 8.82\n",
      "            \n",
      "Episode 360:\n",
      "            Epsilon: 0.165\n",
      "            Average Score: 8.78\n",
      "            \n",
      "Episode 370:\n",
      "            Epsilon: 0.157\n",
      "            Average Score: 8.86\n",
      "            \n",
      "Episode 380:\n",
      "            Epsilon: 0.149\n",
      "            Average Score: 9.16\n",
      "            \n",
      "Episode 390:\n",
      "            Epsilon: 0.142\n",
      "            Average Score: 9.64\n",
      "            \n",
      "Episode 400:\n",
      "            Epsilon: 0.135\n",
      "            Average Score: 9.94\n",
      "            \n",
      "Episode 410:\n",
      "            Epsilon: 0.128\n",
      "            Average Score: 10.09\n",
      "            \n",
      "Episode 420:\n",
      "            Epsilon: 0.010\n",
      "            Average Score: 10.24\n",
      "            \n",
      "Episode 430:\n",
      "            Epsilon: 0.010\n",
      "            Average Score: 10.24\n",
      "            \n",
      "Episode 440:\n",
      "            Epsilon: 0.010\n",
      "            Average Score: 10.34\n",
      "            \n",
      "Episode 450:\n",
      "            Epsilon: 0.010\n",
      "            Average Score: 10.64\n",
      "            \n",
      "Episode 460:\n",
      "            Epsilon: 0.010\n",
      "            Average Score: 11.02\n",
      "            \n",
      "Episode 470:\n",
      "            Epsilon: 0.010\n",
      "            Average Score: 11.10\n",
      "            \n",
      "Episode 480:\n",
      "            Epsilon: 0.010\n",
      "            Average Score: 11.42\n",
      "            \n",
      "Episode 490:\n",
      "            Epsilon: 0.010\n",
      "            Average Score: 11.51\n",
      "            \n",
      "Episode 500:\n",
      "            Epsilon: 0.010\n",
      "            Average Score: 11.64\n",
      "            \n",
      "Episode 510:\n",
      "            Epsilon: 0.010\n",
      "            Average Score: 12.01\n",
      "            \n",
      "Episode 520:\n",
      "            Epsilon: 0.010\n",
      "            Average Score: 12.38\n",
      "            \n",
      "\n",
      "Environment solved in 527 episodes!\tAverage Score: 13.06\n"
     ]
    }
   ],
   "source": [
    "def train_agent(env: UnityEnvironment, brain_name: str, agent: Agent, n_episodes: int,\n",
    "                eps_start=1.0, eps_cutoff: int = 2000, eps_end=0.01, eps_decay=0.995) -> []:\n",
    "    \"\"\"\n",
    "    Trans the agent for n episodes\n",
    "    :param env:\n",
    "    :param brain_name:\n",
    "    :param agent:\n",
    "    :param n_episodes: number of episodes to train\n",
    "    :param eps_start: epsilon start value\n",
    "    :param eps_cutoff: after x episodes, immediately decrease epsilon to eps_end\n",
    "    :param eps_end: epsilon decay per episode\n",
    "    :param eps_decay: minimum value for epsilon (never stop exploring)\n",
    "    :return: returns an array containing the score of every episode\n",
    "    \"\"\"\n",
    "    scores: [int] = []\n",
    "    eps = eps_start\n",
    "    # store the last 100 scores into a queue to check if the agent reached the goal\n",
    "    scores_window = deque(maxlen=100)\n",
    "\n",
    "    for i_episode in range(1, n_episodes + 1):\n",
    "        # reset the environment\n",
    "        env_info = env.reset(train_mode=True)[brain_name]\n",
    "        state = env_info.vector_observations[0]\n",
    "        score = 0\n",
    "\n",
    "        # the environment will end the episode after n steps, thus no manual termination of the episode is needed\n",
    "        while True:\n",
    "            action: int = agent.act(state, eps)\n",
    "            env_info = env.step(action)[brain_name]\n",
    "            next_state = env_info.vector_observations[0]\n",
    "            reward = env_info.rewards[0]\n",
    "            done = env_info.local_done[0]\n",
    "            score += reward\n",
    "\n",
    "            agent.step(state, action, reward, next_state, done)\n",
    "\n",
    "            state = next_state\n",
    "            if done:\n",
    "                break\n",
    "\n",
    "        scores_window.append(score)  # save most recent score\n",
    "        scores.append(score)  # save most recent score\n",
    "\n",
    "        if i_episode >= eps_cutoff:\n",
    "            eps = eps_end\n",
    "        else:\n",
    "            eps = max(eps_end, eps_decay * eps)  # decrease epsilon\n",
    "\n",
    "        if i_episode % 10 == 0:\n",
    "            print(f\"\"\"Episode {i_episode}:\n",
    "            Epsilon: {eps:.3f}\n",
    "            Average Score: {np.mean(scores_window):.2f}\n",
    "            \"\"\")\n",
    "\n",
    "        if np.mean(scores_window) >= 13.0:\n",
    "            print('\\nEnvironment solved in {:d} episodes!\\tAverage Score: {:.2f}'.format(i_episode,\n",
    "                                                                                         np.mean(scores_window)))\n",
    "            torch.save(agent.local_network.state_dict(), 'checkpoint.pth')\n",
    "            break\n",
    "    return scores\n",
    "\n",
    "\n",
    "\n",
    "scores = train_agent(env, brain_name, agent, n_episodes=1000,\n",
    "                             eps_start=1, eps_decay=0.995, eps_cutoff=420, eps_end=0.01)"
   ]
  },
  {
   "cell_type": "markdown",
   "metadata": {
    "pycharm": {
     "name": "#%% md\n"
    }
   },
   "source": [
    "### Watch the trained agent"
   ]
  },
  {
   "cell_type": "code",
   "execution_count": 9,
   "metadata": {
    "pycharm": {
     "is_executing": true,
     "name": "#%%\n"
    }
   },
   "outputs": [
    {
     "name": "stdout",
     "output_type": "stream",
     "text": [
      "Agent achieved a score of 17.0\n"
     ]
    }
   ],
   "source": [
    "def watch_agent(env: UnityEnvironment, brain_name: str, agent: Agent) -> None:\n",
    "    \"\"\"\n",
    "    Shows agent simulation\n",
    "    :param env:\n",
    "    :param brain_name:\n",
    "    :param agent:\n",
    "    :return:\n",
    "    \"\"\"\n",
    "    env_info = env.reset(train_mode=False)[brain_name]  # reset the environment\n",
    "    state = env_info.vector_observations[0]  # get the current state\n",
    "    score = 0  # initialize the score\n",
    "\n",
    "    while True:\n",
    "        action = agent.act(state, epsilon=0.05)\n",
    "        env_info = env.step(action)[brain_name]  # send the action to the environment\n",
    "        next_state = env_info.vector_observations[0]  # get the next state\n",
    "        reward = env_info.rewards[0]  # get the reward\n",
    "        done = env_info.local_done[0]  # see if episode has finished\n",
    "        score += reward  # update the score\n",
    "        state = next_state  # roll over the state to next time step\n",
    "        if done:  # exit loop if episode finished\n",
    "            break\n",
    "    print(f\"Agent achieved a score of {score}\")\n",
    "\n",
    "\n",
    "watch_agent(env, brain_name, agent)"
   ]
  },
  {
   "cell_type": "markdown",
   "metadata": {},
   "source": [
    "### Plot the scores of the agent"
   ]
  },
  {
   "cell_type": "code",
   "execution_count": 10,
   "metadata": {
    "pycharm": {
     "is_executing": true,
     "name": "#%%\n"
    }
   },
   "outputs": [
    {
     "data": {
      "image/png": "[encoded data removed]",
      "text/plain": [
       "<Figure size 864x360 with 2 Axes>"
      ]
     },
     "metadata": {
      "needs_background": "light"
     },
     "output_type": "display_data"
    }
   ],
   "source": [
    "def plot_scores(scores: [int], sma_window: int = 50) -> None:\n",
    "    \"\"\"\n",
    "    Plots a line plot of the scores.\n",
    "    The function expects the score of the first episode at scores[0] and the last episode at scores[-1]\n",
    "    :param scores:\n",
    "    :param sma_window: Simple Moving Average rolling window\n",
    "    :return:\n",
    "    \"\"\"\n",
    "    # calculate moving average of the scores\n",
    "    series: pd.Series = pd.Series(scores)\n",
    "    window = series.rolling(window=sma_window)\n",
    "    scores_sma: pd.Series = window.mean()\n",
    "\n",
    "    # plot the scores\n",
    "    fig = plt.figure(figsize=(12, 5))\n",
    "\n",
    "    plot1 = fig.add_subplot(121)\n",
    "    plot1.plot(np.arange(len(scores)), scores)\n",
    "    plot1.set_ylabel('Score')\n",
    "    plot1.set_xlabel('Episode #')\n",
    "    plot1.set_title(\"Raw scores\")\n",
    "\n",
    "    plot2 = fig.add_subplot(122)\n",
    "    plot2.plot(np.arange(len(scores_sma)), scores_sma)\n",
    "    plot2.set_ylabel('Score')\n",
    "    plot2.set_xlabel('Episode #')\n",
    "    plot2.set_title(f\"Moving Average(window={sma_window})\")\n",
    "\n",
    "    plt.show()\n",
    "\n",
    "\n",
    "plot_scores(scores=scores)\n",
    "\n",
    "env.close()"
   ]
  }
 ],
 "metadata": {
  "kernelspec": {
   "display_name": "drlnd",
   "language": "python",
   "name": "drlnd"
  },
  "language_info": {
   "codemirror_mode": {
    "name": "ipython",
    "version": 3
   },
   "file_extension": ".py",
   "mimetype": "text/x-python",
   "name": "python",
   "nbconvert_exporter": "python",
   "pygments_lexer": "ipython3",
   "version": "3.6.13"
  }
 },
 "nbformat": 4,
 "nbformat_minor": 2
}
